{
  "nbformat": 4,
  "nbformat_minor": 0,
  "metadata": {
    "colab": {
      "name": "SmartHealth-3.ipynb",
      "provenance": []
    },
    "kernelspec": {
      "name": "python3",
      "display_name": "Python 3"
    }
  },
  "cells": [
    {
      "cell_type": "code",
      "metadata": {
        "id": "pwJxQ3TxRcHw",
        "colab_type": "code",
        "colab": {
          "base_uri": "https://localhost:8080/",
          "height": 54
        },
        "outputId": "428413f1-0c0d-44e7-de70-6fad4de721eb"
      },
      "source": [
        "from google.colab import drive\n",
        "drive.mount('/content/drive')"
      ],
      "execution_count": 1,
      "outputs": [
        {
          "output_type": "stream",
          "text": [
            "Drive already mounted at /content/drive; to attempt to forcibly remount, call drive.mount(\"/content/drive\", force_remount=True).\n"
          ],
          "name": "stdout"
        }
      ]
    },
    {
      "cell_type": "code",
      "metadata": {
        "id": "FzmkFMax0wp_",
        "colab_type": "code",
        "colab": {}
      },
      "source": [
        "import os, os.path, shutil\n",
        "\n",
        "folder_path = \"/content/drive/My Drive/DS\"\n",
        "\n",
        "images = [f for f in os.listdir(folder_path) if os.path.isfile(os.path.join(folder_path, f))]\n",
        "\n",
        "for image in images:\n",
        "    folder_name = image.split('_')[0]\n",
        "\n",
        "    new_path = os.path.join(folder_path, folder_name)\n",
        "    if not os.path.exists(new_path):\n",
        "        os.makedirs(new_path)\n",
        "\n",
        "    old_image_path = os.path.join(folder_path, image)\n",
        "    new_image_path = os.path.join(new_path, image)\n",
        "    shutil.move(old_image_path, new_image_path)"
      ],
      "execution_count": 7,
      "outputs": []
    },
    {
      "cell_type": "code",
      "metadata": {
        "id": "n9U_cw-m6ww8",
        "colab_type": "code",
        "colab": {}
      },
      "source": [
        "def resize(path):\n",
        "  for item in os.listdir(path):\n",
        "    if os.path.isfile(item):\n",
        "        im = Image.open(item)\n",
        "        f, e = os.path.splitext(item)\n",
        "        imResize = im.resize((32,32), Image.ANTIALIAS)\n",
        "        imResize.save(f + ' resized.jpg', 'JPEG', quality=90)\n",
        "\n",
        "resize('/content/drive/My Drive/DS/Head')\n",
        "resize('/content/drive/My Drive/DS/Chest')\n",
        "resize('/content/drive/My Drive/DS/Abdomen')"
      ],
      "execution_count": 8,
      "outputs": []
    },
    {
      "cell_type": "code",
      "metadata": {
        "id": "cPcgyIzKZzLY",
        "colab_type": "code",
        "colab": {
          "base_uri": "https://localhost:8080/",
          "height": 105
        },
        "outputId": "9de4df86-a18f-4756-fd11-780cc7abe925"
      },
      "source": [
        "pip install split-folders"
      ],
      "execution_count": 16,
      "outputs": [
        {
          "output_type": "stream",
          "text": [
            "Collecting split-folders\n",
            "  Downloading https://files.pythonhosted.org/packages/d1/4b/7b282b0f9319189d71e803220748929b37d019b67b1782d14c59cb1bd940/split_folders-0.4.2-py3-none-any.whl\n",
            "Installing collected packages: split-folders\n",
            "Successfully installed split-folders-0.4.2\n"
          ],
          "name": "stdout"
        }
      ]
    },
    {
      "cell_type": "code",
      "metadata": {
        "id": "uzOiyjWnZRfK",
        "colab_type": "code",
        "colab": {}
      },
      "source": [
        "import splitfolders\n",
        "\n",
        "splitfolders.ratio(\"/content/drive/My Drive/DS\", output=\"/content/drive/My Drive/DS/ot\", seed=1337, ratio=(.8, .1, .1), group_prefix=None) \n",
        "\n"
      ],
      "execution_count": null,
      "outputs": []
    },
    {
      "cell_type": "code",
      "metadata": {
        "id": "g4NBu-ugjIag",
        "colab_type": "code",
        "colab": {}
      },
      "source": [
        "import numpy as np\n",
        "from keras.models import Sequential\n",
        "from keras.layers import Activation, Dropout, Flatten, Dense\n",
        "from keras.preprocessing.image import ImageDataGenerator\n",
        "from keras.layers import Convolution2D, MaxPooling2D, ZeroPadding2D\n",
        "from keras import optimizers\n",
        "from keras import applications\n",
        "from keras.models import Model"
      ],
      "execution_count": 2,
      "outputs": []
    },
    {
      "cell_type": "code",
      "metadata": {
        "id": "ZQePYl-3if-z",
        "colab_type": "code",
        "colab": {}
      },
      "source": [
        "train_data_dir = '/content/drive/My Drive/DS/ot/train'\n",
        "validation_data_dir = '/content/drive/My Drive/DS/ot/val'"
      ],
      "execution_count": 3,
      "outputs": []
    },
    {
      "cell_type": "code",
      "metadata": {
        "id": "UdYUbWRUqWZO",
        "colab_type": "code",
        "colab": {}
      },
      "source": [
        "from sklearn.datasets import load_files       \n",
        "from keras.utils import np_utils\n",
        "import numpy as np\n",
        "from glob import glob\n",
        "\n",
        "def load_data(path):\n",
        "    data = load_files(path)\n",
        "    files = np.array(data['filenames'])\n",
        "    targets = np_utils.to_categorical(np.array(data['target']), 3)\n",
        "    return files, targets\n",
        "\n",
        "train_files, train_targets = load_data('/content/drive/My Drive/DS/ot/train')\n",
        "test_files, test_targets = load_data('/content/drive/My Drive/DS/ot/test')\n",
        "valid_files, valid_targets = load_data('/content/drive/My Drive/DS/ot/val')\n",
        "\n",
        "catagory_names = [item[9:-1] for item in sorted(glob(\"/content/drive/My Drive/DS/ot/train/*/\"))]\n"
      ],
      "execution_count": 4,
      "outputs": []
    },
    {
      "cell_type": "code",
      "metadata": {
        "id": "KNrxucmPrdk5",
        "colab_type": "code",
        "colab": {}
      },
      "source": [
        "from keras.preprocessing import image                  \n",
        "from tqdm import tqdm\n",
        "\n",
        "def path_to_tensor(img_path):\n",
        "    img = image.load_img(img_path, target_size=(32, 32))\n",
        "    x = image.img_to_array(img)\n",
        "    return np.expand_dims(x, axis=0)\n",
        "\n",
        "def paths_to_tensor(img_paths):\n",
        "    list_of_tensors = [path_to_tensor(img_path) for img_path in tqdm(img_paths)]\n",
        "    return np.vstack(list_of_tensors)"
      ],
      "execution_count": 59,
      "outputs": []
    },
    {
      "cell_type": "code",
      "metadata": {
        "id": "xzdH8BatrhSC",
        "colab_type": "code",
        "colab": {
          "base_uri": "https://localhost:8080/",
          "height": 68
        },
        "outputId": "65d19ae1-0b09-4da9-a373-e06f686cf45d"
      },
      "source": [
        "from PIL import ImageFile                            \n",
        "ImageFile.LOAD_TRUNCATED_IMAGES = True                 \n",
        "\n",
        "train_t = paths_to_tensor(train_files).astype('float32')/255\n",
        "test_t = paths_to_tensor(test_files).astype('float32')/255\n",
        "valid_tensors = paths_to_tensor(valid_files).astype('float32')/255"
      ],
      "execution_count": 60,
      "outputs": [
        {
          "output_type": "stream",
          "text": [
            "100%|██████████| 1200/1200 [00:01<00:00, 682.15it/s]\n",
            "100%|██████████| 300/300 [00:00<00:00, 720.40it/s]\n",
            "100%|██████████| 450/450 [00:00<00:00, 708.93it/s]\n"
          ],
          "name": "stderr"
        }
      ]
    },
    {
      "cell_type": "code",
      "metadata": {
        "id": "oldVhG_vrlHS",
        "colab_type": "code",
        "colab": {}
      },
      "source": [
        "from keras.layers import Conv2D, MaxPooling2D, GlobalAveragePooling2D\n",
        "from keras.layers import Dropout, Flatten, Dense\n",
        "from keras.models import Sequential\n",
        "\n",
        "def create_model():\n",
        "    model = Sequential()\n",
        "    model.add(Conv2D(filters=16, kernel_size=2, padding='same', activation='relu', input_shape=(32, 32, 3)))\n",
        "    model.add(MaxPooling2D(pool_size=2))\n",
        "    model.add(Dropout(0.1))\n",
        "\n",
        "    model.add(Conv2D(filters=32, kernel_size=2, padding='same', activation='relu'))\n",
        "    model.add(MaxPooling2D(pool_size=2))\n",
        "    model.add(Dropout(0.1))\n",
        "    \n",
        "    model.add(Conv2D(filters=64, kernel_size=2, padding='same', activation='relu'))\n",
        "    model.add(MaxPooling2D(pool_size=2))\n",
        "    model.add(Dropout(0.1))\n",
        "    \n",
        "    model.add(Conv2D(filters=96, kernel_size=2, padding='same', activation='relu'))\n",
        "    model.add(MaxPooling2D(pool_size=2))\n",
        "    model.add(Dropout(0.1))\n",
        "    \n",
        "    model.add(Conv2D(filters=128, kernel_size=2, padding='same', activation='relu'))\n",
        "    model.add(MaxPooling2D(pool_size=2))\n",
        "    model.add(Dropout(0.1))\n",
        "    \n",
        "    model.add(Flatten())\n",
        "    model.add(Dense(500, activation='relu', name='final_layer'))\n",
        "    model.add(Dense(3, activation='softmax'))\n",
        "\n",
        "    model.summary()\n",
        "    \n",
        "    model.compile(optimizer='rmsprop', loss='categorical_crossentropy', metrics=['accuracy'])\n",
        "    \n",
        "    return model"
      ],
      "execution_count": 61,
      "outputs": []
    },
    {
      "cell_type": "code",
      "metadata": {
        "id": "_aT9nYk8roDq",
        "colab_type": "code",
        "colab": {
          "base_uri": "https://localhost:8080/",
          "height": 765
        },
        "outputId": "2a6759e2-a21f-47a2-d520-bb30cec9ace1"
      },
      "source": [
        "train_model = create_model()"
      ],
      "execution_count": 62,
      "outputs": [
        {
          "output_type": "stream",
          "text": [
            "Model: \"sequential_4\"\n",
            "_________________________________________________________________\n",
            "Layer (type)                 Output Shape              Param #   \n",
            "=================================================================\n",
            "conv2d_18 (Conv2D)           (None, 32, 32, 16)        208       \n",
            "_________________________________________________________________\n",
            "max_pooling2d_18 (MaxPooling (None, 16, 16, 16)        0         \n",
            "_________________________________________________________________\n",
            "dropout_18 (Dropout)         (None, 16, 16, 16)        0         \n",
            "_________________________________________________________________\n",
            "conv2d_19 (Conv2D)           (None, 16, 16, 32)        2080      \n",
            "_________________________________________________________________\n",
            "max_pooling2d_19 (MaxPooling (None, 8, 8, 32)          0         \n",
            "_________________________________________________________________\n",
            "dropout_19 (Dropout)         (None, 8, 8, 32)          0         \n",
            "_________________________________________________________________\n",
            "conv2d_20 (Conv2D)           (None, 8, 8, 64)          8256      \n",
            "_________________________________________________________________\n",
            "max_pooling2d_20 (MaxPooling (None, 4, 4, 64)          0         \n",
            "_________________________________________________________________\n",
            "dropout_20 (Dropout)         (None, 4, 4, 64)          0         \n",
            "_________________________________________________________________\n",
            "conv2d_21 (Conv2D)           (None, 4, 4, 96)          24672     \n",
            "_________________________________________________________________\n",
            "max_pooling2d_21 (MaxPooling (None, 2, 2, 96)          0         \n",
            "_________________________________________________________________\n",
            "dropout_21 (Dropout)         (None, 2, 2, 96)          0         \n",
            "_________________________________________________________________\n",
            "conv2d_22 (Conv2D)           (None, 2, 2, 128)         49280     \n",
            "_________________________________________________________________\n",
            "max_pooling2d_22 (MaxPooling (None, 1, 1, 128)         0         \n",
            "_________________________________________________________________\n",
            "dropout_22 (Dropout)         (None, 1, 1, 128)         0         \n",
            "_________________________________________________________________\n",
            "flatten_4 (Flatten)          (None, 128)               0         \n",
            "_________________________________________________________________\n",
            "final_layer (Dense)          (None, 500)               64500     \n",
            "_________________________________________________________________\n",
            "dense_4 (Dense)              (None, 3)                 1503      \n",
            "=================================================================\n",
            "Total params: 150,499\n",
            "Trainable params: 150,499\n",
            "Non-trainable params: 0\n",
            "_________________________________________________________________\n"
          ],
          "name": "stdout"
        }
      ]
    },
    {
      "cell_type": "code",
      "metadata": {
        "id": "ISOyBQDzrqqR",
        "colab_type": "code",
        "colab": {
          "base_uri": "https://localhost:8080/",
          "height": 765
        },
        "outputId": "77e3d920-6019-4ded-b01d-a8c498e27a7d"
      },
      "source": [
        "test_model = create_model()"
      ],
      "execution_count": 63,
      "outputs": [
        {
          "output_type": "stream",
          "text": [
            "Model: \"sequential_5\"\n",
            "_________________________________________________________________\n",
            "Layer (type)                 Output Shape              Param #   \n",
            "=================================================================\n",
            "conv2d_23 (Conv2D)           (None, 32, 32, 16)        208       \n",
            "_________________________________________________________________\n",
            "max_pooling2d_23 (MaxPooling (None, 16, 16, 16)        0         \n",
            "_________________________________________________________________\n",
            "dropout_23 (Dropout)         (None, 16, 16, 16)        0         \n",
            "_________________________________________________________________\n",
            "conv2d_24 (Conv2D)           (None, 16, 16, 32)        2080      \n",
            "_________________________________________________________________\n",
            "max_pooling2d_24 (MaxPooling (None, 8, 8, 32)          0         \n",
            "_________________________________________________________________\n",
            "dropout_24 (Dropout)         (None, 8, 8, 32)          0         \n",
            "_________________________________________________________________\n",
            "conv2d_25 (Conv2D)           (None, 8, 8, 64)          8256      \n",
            "_________________________________________________________________\n",
            "max_pooling2d_25 (MaxPooling (None, 4, 4, 64)          0         \n",
            "_________________________________________________________________\n",
            "dropout_25 (Dropout)         (None, 4, 4, 64)          0         \n",
            "_________________________________________________________________\n",
            "conv2d_26 (Conv2D)           (None, 4, 4, 96)          24672     \n",
            "_________________________________________________________________\n",
            "max_pooling2d_26 (MaxPooling (None, 2, 2, 96)          0         \n",
            "_________________________________________________________________\n",
            "dropout_26 (Dropout)         (None, 2, 2, 96)          0         \n",
            "_________________________________________________________________\n",
            "conv2d_27 (Conv2D)           (None, 2, 2, 128)         49280     \n",
            "_________________________________________________________________\n",
            "max_pooling2d_27 (MaxPooling (None, 1, 1, 128)         0         \n",
            "_________________________________________________________________\n",
            "dropout_27 (Dropout)         (None, 1, 1, 128)         0         \n",
            "_________________________________________________________________\n",
            "flatten_5 (Flatten)          (None, 128)               0         \n",
            "_________________________________________________________________\n",
            "final_layer (Dense)          (None, 500)               64500     \n",
            "_________________________________________________________________\n",
            "dense_5 (Dense)              (None, 3)                 1503      \n",
            "=================================================================\n",
            "Total params: 150,499\n",
            "Trainable params: 150,499\n",
            "Non-trainable params: 0\n",
            "_________________________________________________________________\n"
          ],
          "name": "stdout"
        }
      ]
    },
    {
      "cell_type": "code",
      "metadata": {
        "id": "vMQCbOkFruVB",
        "colab_type": "code",
        "colab": {}
      },
      "source": [
        "from keras.callbacks import ModelCheckpoint  \n",
        "\n",
        "def run_model(model, X, y, epochs, save_file):\n",
        "\n",
        "    checkpointer = ModelCheckpoint(filepath='saved_models/' + save_file, \n",
        "                                   verbose=1, save_best_only=True)\n",
        "\n",
        "    model.fit(X, y, validation_data=(valid_tensors, valid_targets),\n",
        "              epochs=epochs, batch_size=7, callbacks=[checkpointer], verbose=1)\n",
        "    \n",
        "    return model"
      ],
      "execution_count": 64,
      "outputs": []
    },
    {
      "cell_type": "code",
      "metadata": {
        "id": "roLDwX9lrxJu",
        "colab_type": "code",
        "colab": {
          "base_uri": "https://localhost:8080/",
          "height": 1000
        },
        "outputId": "93b916a1-4441-411e-ae93-0e6b4b9c8cdc"
      },
      "source": [
        "train_model = run_model(train_model, train_t, train_targets, 20, 'weights.best.from_scratch.hdf5')"
      ],
      "execution_count": 66,
      "outputs": [
        {
          "output_type": "stream",
          "text": [
            "Epoch 1/20\n",
            "171/172 [============================>.] - ETA: 0s - loss: 9.0627e-09 - accuracy: 1.0000\n",
            "Epoch 00001: val_loss improved from inf to 0.00015, saving model to saved_models/weights.best.from_scratch.hdf5\n",
            "172/172 [==============================] - 3s 15ms/step - loss: 9.0400e-09 - accuracy: 1.0000 - val_loss: 1.5231e-04 - val_accuracy: 1.0000\n",
            "Epoch 2/20\n",
            "172/172 [==============================] - ETA: 0s - loss: 0.0401 - accuracy: 0.9975\n",
            "Epoch 00002: val_loss improved from 0.00015 to 0.00000, saving model to saved_models/weights.best.from_scratch.hdf5\n",
            "172/172 [==============================] - 2s 15ms/step - loss: 0.0401 - accuracy: 0.9975 - val_loss: 4.8743e-08 - val_accuracy: 1.0000\n",
            "Epoch 3/20\n",
            "169/172 [============================>.] - ETA: 0s - loss: 0.0118 - accuracy: 0.9966\n",
            "Epoch 00003: val_loss improved from 0.00000 to 0.00000, saving model to saved_models/weights.best.from_scratch.hdf5\n",
            "172/172 [==============================] - 2s 14ms/step - loss: 0.0117 - accuracy: 0.9967 - val_loss: 3.4438e-09 - val_accuracy: 1.0000\n",
            "Epoch 4/20\n",
            "169/172 [============================>.] - ETA: 0s - loss: 0.0096 - accuracy: 0.9983\n",
            "Epoch 00004: val_loss did not improve from 0.00000\n",
            "172/172 [==============================] - 2s 14ms/step - loss: 0.0095 - accuracy: 0.9983 - val_loss: 0.0034 - val_accuracy: 0.9978\n",
            "Epoch 5/20\n",
            "168/172 [============================>.] - ETA: 0s - loss: 0.0012 - accuracy: 0.9991\n",
            "Epoch 00005: val_loss improved from 0.00000 to 0.00000, saving model to saved_models/weights.best.from_scratch.hdf5\n",
            "172/172 [==============================] - 2s 14ms/step - loss: 0.0012 - accuracy: 0.9992 - val_loss: 0.0000e+00 - val_accuracy: 1.0000\n",
            "Epoch 6/20\n",
            "168/172 [============================>.] - ETA: 0s - loss: 1.9522e-06 - accuracy: 1.0000\n",
            "Epoch 00006: val_loss did not improve from 0.00000\n",
            "172/172 [==============================] - 3s 15ms/step - loss: 1.9139e-06 - accuracy: 1.0000 - val_loss: 0.1299 - val_accuracy: 0.9778\n",
            "Epoch 7/20\n",
            "171/172 [============================>.] - ETA: 0s - loss: 0.0182 - accuracy: 0.9983\n",
            "Epoch 00007: val_loss did not improve from 0.00000\n",
            "172/172 [==============================] - 3s 15ms/step - loss: 0.0182 - accuracy: 0.9983 - val_loss: 3.4438e-09 - val_accuracy: 1.0000\n",
            "Epoch 8/20\n",
            "168/172 [============================>.] - ETA: 0s - loss: 4.0547e-10 - accuracy: 1.0000\n",
            "Epoch 00008: val_loss did not improve from 0.00000\n",
            "172/172 [==============================] - 3s 15ms/step - loss: 3.9736e-10 - accuracy: 1.0000 - val_loss: 9.8016e-09 - val_accuracy: 1.0000\n",
            "Epoch 9/20\n",
            "169/172 [============================>.] - ETA: 0s - loss: 0.0079 - accuracy: 0.9975\n",
            "Epoch 00009: val_loss did not improve from 0.00000\n",
            "172/172 [==============================] - 2s 14ms/step - loss: 0.0078 - accuracy: 0.9975 - val_loss: 8.4237e-04 - val_accuracy: 1.0000\n",
            "Epoch 10/20\n",
            "172/172 [==============================] - ETA: 0s - loss: 2.0861e-08 - accuracy: 1.0000\n",
            "Epoch 00010: val_loss did not improve from 0.00000\n",
            "172/172 [==============================] - 3s 15ms/step - loss: 2.0861e-08 - accuracy: 1.0000 - val_loss: 7.1075e-04 - val_accuracy: 1.0000\n",
            "Epoch 11/20\n",
            "170/172 [============================>.] - ETA: 0s - loss: 0.0000e+00 - accuracy: 1.0000\n",
            "Epoch 00011: val_loss did not improve from 0.00000\n",
            "172/172 [==============================] - 3s 15ms/step - loss: 0.0000e+00 - accuracy: 1.0000 - val_loss: 1.5895e-09 - val_accuracy: 1.0000\n",
            "Epoch 12/20\n",
            "168/172 [============================>.] - ETA: 0s - loss: 0.0384 - accuracy: 0.9957\n",
            "Epoch 00012: val_loss did not improve from 0.00000\n",
            "172/172 [==============================] - 2s 14ms/step - loss: 0.0376 - accuracy: 0.9958 - val_loss: 0.0102 - val_accuracy: 0.9956\n",
            "Epoch 13/20\n",
            "170/172 [============================>.] - ETA: 0s - loss: 3.8467e-08 - accuracy: 1.0000\n",
            "Epoch 00013: val_loss did not improve from 0.00000\n",
            "172/172 [==============================] - 2s 14ms/step - loss: 3.8146e-08 - accuracy: 1.0000 - val_loss: 3.9661e-06 - val_accuracy: 1.0000\n",
            "Epoch 14/20\n",
            "170/172 [============================>.] - ETA: 0s - loss: 0.0104 - accuracy: 0.9992\n",
            "Epoch 00014: val_loss did not improve from 0.00000\n",
            "172/172 [==============================] - 2s 14ms/step - loss: 0.0103 - accuracy: 0.9992 - val_loss: 5.2982e-10 - val_accuracy: 1.0000\n",
            "Epoch 15/20\n",
            "171/172 [============================>.] - ETA: 0s - loss: 0.0014 - accuracy: 0.9992\n",
            "Epoch 00015: val_loss did not improve from 0.00000\n",
            "172/172 [==============================] - 2s 14ms/step - loss: 0.0014 - accuracy: 0.9992 - val_loss: 0.0000e+00 - val_accuracy: 1.0000\n",
            "Epoch 16/20\n",
            "168/172 [============================>.] - ETA: 0s - loss: 1.8254e-06 - accuracy: 1.0000\n",
            "Epoch 00016: val_loss did not improve from 0.00000\n",
            "172/172 [==============================] - 2s 14ms/step - loss: 1.7889e-06 - accuracy: 1.0000 - val_loss: 2.7126e-07 - val_accuracy: 1.0000\n",
            "Epoch 17/20\n",
            "170/172 [============================>.] - ETA: 0s - loss: 0.0388 - accuracy: 0.9950\n",
            "Epoch 00017: val_loss did not improve from 0.00000\n",
            "172/172 [==============================] - 2s 14ms/step - loss: 0.0384 - accuracy: 0.9950 - val_loss: 1.5895e-09 - val_accuracy: 1.0000\n",
            "Epoch 18/20\n",
            "169/172 [============================>.] - ETA: 0s - loss: 0.0311 - accuracy: 0.9975\n",
            "Epoch 00018: val_loss did not improve from 0.00000\n",
            "172/172 [==============================] - 2s 14ms/step - loss: 0.0307 - accuracy: 0.9975 - val_loss: 4.6383e-07 - val_accuracy: 1.0000\n",
            "Epoch 19/20\n",
            "171/172 [============================>.] - ETA: 0s - loss: 0.0057 - accuracy: 0.9992\n",
            "Epoch 00019: val_loss did not improve from 0.00000\n",
            "172/172 [==============================] - 2s 14ms/step - loss: 0.0057 - accuracy: 0.9992 - val_loss: 0.0000e+00 - val_accuracy: 1.0000\n",
            "Epoch 20/20\n",
            "169/172 [============================>.] - ETA: 0s - loss: 1.1111e-05 - accuracy: 1.0000\n",
            "Epoch 00020: val_loss did not improve from 0.00000\n",
            "172/172 [==============================] - 3s 15ms/step - loss: 1.0954e-05 - accuracy: 1.0000 - val_loss: 3.6290e-05 - val_accuracy: 1.0000\n"
          ],
          "name": "stdout"
        }
      ]
    },
    {
      "cell_type": "code",
      "metadata": {
        "id": "caPAIegCsE59",
        "colab_type": "code",
        "colab": {
          "base_uri": "https://localhost:8080/",
          "height": 1000
        },
        "outputId": "2b3f8842-42a3-467c-dfca-72a41c55a7d3"
      },
      "source": [
        "test_model = run_model(test_model, test_t, test_targets, 20, 'weights.best.from_test_scratch.hdf5')"
      ],
      "execution_count": 67,
      "outputs": [
        {
          "output_type": "stream",
          "text": [
            "Epoch 1/20\n",
            "41/43 [===========================>..] - ETA: 0s - loss: 0.8704 - accuracy: 0.5261\n",
            "Epoch 00001: val_loss improved from inf to 0.49976, saving model to saved_models/weights.best.from_test_scratch.hdf5\n",
            "43/43 [==============================] - 1s 22ms/step - loss: 0.8580 - accuracy: 0.5300 - val_loss: 0.4998 - val_accuracy: 0.6711\n",
            "Epoch 2/20\n",
            "43/43 [==============================] - ETA: 0s - loss: 0.4771 - accuracy: 0.7300\n",
            "Epoch 00002: val_loss improved from 0.49976 to 0.32539, saving model to saved_models/weights.best.from_test_scratch.hdf5\n",
            "43/43 [==============================] - 1s 19ms/step - loss: 0.4771 - accuracy: 0.7300 - val_loss: 0.3254 - val_accuracy: 0.9467\n",
            "Epoch 3/20\n",
            "39/43 [==========================>...] - ETA: 0s - loss: 0.3981 - accuracy: 0.8352\n",
            "Epoch 00003: val_loss did not improve from 0.32539\n",
            "43/43 [==============================] - 1s 18ms/step - loss: 0.3903 - accuracy: 0.8367 - val_loss: 0.3820 - val_accuracy: 0.7289\n",
            "Epoch 4/20\n",
            "43/43 [==============================] - ETA: 0s - loss: 0.2148 - accuracy: 0.9167\n",
            "Epoch 00004: val_loss improved from 0.32539 to 0.08134, saving model to saved_models/weights.best.from_test_scratch.hdf5\n",
            "43/43 [==============================] - 1s 19ms/step - loss: 0.2148 - accuracy: 0.9167 - val_loss: 0.0813 - val_accuracy: 0.9911\n",
            "Epoch 5/20\n",
            "42/43 [============================>.] - ETA: 0s - loss: 0.1830 - accuracy: 0.9354\n",
            "Epoch 00005: val_loss improved from 0.08134 to 0.06101, saving model to saved_models/weights.best.from_test_scratch.hdf5\n",
            "43/43 [==============================] - 1s 19ms/step - loss: 0.1803 - accuracy: 0.9367 - val_loss: 0.0610 - val_accuracy: 0.9911\n",
            "Epoch 6/20\n",
            "41/43 [===========================>..] - ETA: 0s - loss: 0.0939 - accuracy: 0.9756\n",
            "Epoch 00006: val_loss did not improve from 0.06101\n",
            "43/43 [==============================] - 1s 19ms/step - loss: 0.0910 - accuracy: 0.9767 - val_loss: 0.1166 - val_accuracy: 0.9689\n",
            "Epoch 7/20\n",
            "41/43 [===========================>..] - ETA: 0s - loss: 0.1330 - accuracy: 0.9477\n",
            "Epoch 00007: val_loss improved from 0.06101 to 0.01817, saving model to saved_models/weights.best.from_test_scratch.hdf5\n",
            "43/43 [==============================] - 1s 20ms/step - loss: 0.1275 - accuracy: 0.9500 - val_loss: 0.0182 - val_accuracy: 0.9978\n",
            "Epoch 8/20\n",
            "40/43 [==========================>...] - ETA: 0s - loss: 0.0552 - accuracy: 0.9786\n",
            "Epoch 00008: val_loss did not improve from 0.01817\n",
            "43/43 [==============================] - 1s 20ms/step - loss: 0.0579 - accuracy: 0.9733 - val_loss: 0.0289 - val_accuracy: 0.9911\n",
            "Epoch 9/20\n",
            "40/43 [==========================>...] - ETA: 0s - loss: 0.1116 - accuracy: 0.9750\n",
            "Epoch 00009: val_loss improved from 0.01817 to 0.01136, saving model to saved_models/weights.best.from_test_scratch.hdf5\n",
            "43/43 [==============================] - 1s 21ms/step - loss: 0.1047 - accuracy: 0.9767 - val_loss: 0.0114 - val_accuracy: 1.0000\n",
            "Epoch 10/20\n",
            "41/43 [===========================>..] - ETA: 0s - loss: 0.0584 - accuracy: 0.9721\n",
            "Epoch 00010: val_loss did not improve from 0.01136\n",
            "43/43 [==============================] - 1s 21ms/step - loss: 0.0561 - accuracy: 0.9733 - val_loss: 0.0130 - val_accuracy: 1.0000\n",
            "Epoch 11/20\n",
            "40/43 [==========================>...] - ETA: 0s - loss: 0.0544 - accuracy: 0.9893\n",
            "Epoch 00011: val_loss did not improve from 0.01136\n",
            "43/43 [==============================] - 1s 21ms/step - loss: 0.0509 - accuracy: 0.9900 - val_loss: 0.0128 - val_accuracy: 0.9978\n",
            "Epoch 12/20\n",
            "41/43 [===========================>..] - ETA: 0s - loss: 0.0144 - accuracy: 0.9930\n",
            "Epoch 00012: val_loss improved from 0.01136 to 0.01099, saving model to saved_models/weights.best.from_test_scratch.hdf5\n",
            "43/43 [==============================] - 1s 21ms/step - loss: 0.0139 - accuracy: 0.9933 - val_loss: 0.0110 - val_accuracy: 0.9956\n",
            "Epoch 13/20\n",
            "41/43 [===========================>..] - ETA: 0s - loss: 0.0516 - accuracy: 0.9895\n",
            "Epoch 00013: val_loss improved from 0.01099 to 0.00147, saving model to saved_models/weights.best.from_test_scratch.hdf5\n",
            "43/43 [==============================] - 1s 21ms/step - loss: 0.0494 - accuracy: 0.9900 - val_loss: 0.0015 - val_accuracy: 1.0000\n",
            "Epoch 14/20\n",
            "41/43 [===========================>..] - ETA: 0s - loss: 0.0909 - accuracy: 0.9721\n",
            "Epoch 00014: val_loss did not improve from 0.00147\n",
            "43/43 [==============================] - 1s 20ms/step - loss: 0.1841 - accuracy: 0.9633 - val_loss: 0.0086 - val_accuracy: 1.0000\n",
            "Epoch 15/20\n",
            "40/43 [==========================>...] - ETA: 0s - loss: 0.0020 - accuracy: 1.0000\n",
            "Epoch 00015: val_loss did not improve from 0.00147\n",
            "43/43 [==============================] - 1s 21ms/step - loss: 0.0019 - accuracy: 1.0000 - val_loss: 0.0020 - val_accuracy: 1.0000\n",
            "Epoch 16/20\n",
            "41/43 [===========================>..] - ETA: 0s - loss: 0.0306 - accuracy: 0.9965\n",
            "Epoch 00016: val_loss did not improve from 0.00147\n",
            "43/43 [==============================] - 1s 20ms/step - loss: 0.0293 - accuracy: 0.9967 - val_loss: 0.0058 - val_accuracy: 1.0000\n",
            "Epoch 17/20\n",
            "40/43 [==========================>...] - ETA: 0s - loss: 0.0961 - accuracy: 0.9893\n",
            "Epoch 00017: val_loss did not improve from 0.00147\n",
            "43/43 [==============================] - 1s 19ms/step - loss: 0.0898 - accuracy: 0.9900 - val_loss: 0.0333 - val_accuracy: 0.9978\n",
            "Epoch 18/20\n",
            "40/43 [==========================>...] - ETA: 0s - loss: 3.2340e-04 - accuracy: 1.0000\n",
            "Epoch 00018: val_loss did not improve from 0.00147\n",
            "43/43 [==============================] - 1s 20ms/step - loss: 3.1117e-04 - accuracy: 1.0000 - val_loss: 0.0287 - val_accuracy: 0.9978\n",
            "Epoch 19/20\n",
            "41/43 [===========================>..] - ETA: 0s - loss: 0.0032 - accuracy: 1.0000    \n",
            "Epoch 00019: val_loss did not improve from 0.00147\n",
            "43/43 [==============================] - 1s 19ms/step - loss: 0.0039 - accuracy: 1.0000 - val_loss: 0.0604 - val_accuracy: 0.9978\n",
            "Epoch 20/20\n",
            "42/43 [============================>.] - ETA: 0s - loss: 0.0826 - accuracy: 0.9796\n",
            "Epoch 00020: val_loss did not improve from 0.00147\n",
            "43/43 [==============================] - 1s 19ms/step - loss: 0.0809 - accuracy: 0.9800 - val_loss: 0.0185 - val_accuracy: 0.9933\n"
          ],
          "name": "stdout"
        }
      ]
    },
    {
      "cell_type": "code",
      "metadata": {
        "id": "sAYwluw7sNUm",
        "colab_type": "code",
        "colab": {
          "base_uri": "https://localhost:8080/",
          "height": 34
        },
        "outputId": "6cc4d205-dd4e-4b2f-db80-f80146bd6eba"
      },
      "source": [
        "p = [np.argmax(train_model.predict(np.expand_dims(feature, axis=0))) for feature in test_t]\n",
        "\n",
        "test_accuracy = 100*np.sum(np.array(p)==np.argmax(test_targets, axis=1))/len(p)\n",
        "print('Test accuracy: %.4f%%' % test_accuracy)\n"
      ],
      "execution_count": 68,
      "outputs": [
        {
          "output_type": "stream",
          "text": [
            "Test accuracy: 100.0000%\n"
          ],
          "name": "stdout"
        }
      ]
    },
    {
      "cell_type": "code",
      "metadata": {
        "id": "EkT5Cuqe7X8z",
        "colab_type": "code",
        "colab": {}
      },
      "source": [
        "from keras.models import Model\n",
        "\n",
        "new_train_model = Model(inputs=train_model.input,outputs=train_model.get_layer('final_layer').output)\n",
        "new_test_model = Model(inputs=test_model.input,outputs=test_model.get_layer('final_layer').output)\n",
        "\n",
        "x_train = new_train_model.predict(train_t)\n",
        "x_test = new_test_model.predict(test_t)\n",
        "\n",
        "y_train = [np.where(r==1)[0][0] for r in train_targets]\n",
        "y_test = [np.where(r==1)[0][0] for r in test_targets]"
      ],
      "execution_count": 69,
      "outputs": []
    },
    {
      "cell_type": "code",
      "metadata": {
        "id": "4FvBsti8E7YY",
        "colab_type": "code",
        "colab": {
          "base_uri": "https://localhost:8080/",
          "height": 1000
        },
        "outputId": "8910991f-de1a-4ea3-ea3a-468d6e90368a"
      },
      "source": [
        "from sklearn.neighbors import KNeighborsClassifier\n",
        "import pandas as pd\n",
        "\n",
        "from sklearn.metrics import classification_report, confusion_matrix, accuracy_score\n",
        "knn_model = {}\n",
        "\n",
        "K = [3, 5, 7, 9]\n",
        "error = []\n",
        "for i in K:\n",
        "    knn = KNeighborsClassifier(n_neighbors=i)\n",
        "    knn = knn.fit(x_train, y_train)\n",
        "    knn_model[i] = knn\n",
        "    pred = knn.predict(x_test)\n",
        "    error.append(np.mean(pred != y_test))\n",
        "    eval(\"print(\\\"k=\" + str(i) + \":{}\\\".format(accuracy_score(y_test, pred)))\")\n",
        "    print(confusion_matrix(y_test, pred))\n",
        "    print(classification_report(y_test, pred))"
      ],
      "execution_count": 70,
      "outputs": [
        {
          "output_type": "stream",
          "text": [
            "k=3:0.3333333333333333\n",
            "[[  0 100   0]\n",
            " [  0 100   0]\n",
            " [100   0   0]]\n",
            "              precision    recall  f1-score   support\n",
            "\n",
            "           0       0.00      0.00      0.00       100\n",
            "           1       0.50      1.00      0.67       100\n",
            "           2       0.00      0.00      0.00       100\n",
            "\n",
            "    accuracy                           0.33       300\n",
            "   macro avg       0.17      0.33      0.22       300\n",
            "weighted avg       0.17      0.33      0.22       300\n",
            "\n",
            "k=5:0.3333333333333333\n",
            "[[  0 100   0]\n",
            " [  0 100   0]\n",
            " [100   0   0]]\n",
            "              precision    recall  f1-score   support\n",
            "\n",
            "           0       0.00      0.00      0.00       100\n",
            "           1       0.50      1.00      0.67       100\n",
            "           2       0.00      0.00      0.00       100\n",
            "\n",
            "    accuracy                           0.33       300\n",
            "   macro avg       0.17      0.33      0.22       300\n",
            "weighted avg       0.17      0.33      0.22       300\n",
            "\n"
          ],
          "name": "stdout"
        },
        {
          "output_type": "stream",
          "text": [
            "/usr/local/lib/python3.6/dist-packages/sklearn/metrics/_classification.py:1272: UndefinedMetricWarning: Precision and F-score are ill-defined and being set to 0.0 in labels with no predicted samples. Use `zero_division` parameter to control this behavior.\n",
            "  _warn_prf(average, modifier, msg_start, len(result))\n",
            "/usr/local/lib/python3.6/dist-packages/sklearn/metrics/_classification.py:1272: UndefinedMetricWarning: Precision and F-score are ill-defined and being set to 0.0 in labels with no predicted samples. Use `zero_division` parameter to control this behavior.\n",
            "  _warn_prf(average, modifier, msg_start, len(result))\n"
          ],
          "name": "stderr"
        },
        {
          "output_type": "stream",
          "text": [
            "k=7:0.3333333333333333\n",
            "[[  0 100   0]\n",
            " [  0 100   0]\n",
            " [100   0   0]]\n",
            "              precision    recall  f1-score   support\n",
            "\n",
            "           0       0.00      0.00      0.00       100\n",
            "           1       0.50      1.00      0.67       100\n",
            "           2       0.00      0.00      0.00       100\n",
            "\n",
            "    accuracy                           0.33       300\n",
            "   macro avg       0.17      0.33      0.22       300\n",
            "weighted avg       0.17      0.33      0.22       300\n",
            "\n",
            "k=9:0.41333333333333333\n",
            "[[ 25  75   0]\n",
            " [  1  99   0]\n",
            " [100   0   0]]\n",
            "              precision    recall  f1-score   support\n",
            "\n",
            "           0       0.20      0.25      0.22       100\n",
            "           1       0.57      0.99      0.72       100\n",
            "           2       0.00      0.00      0.00       100\n",
            "\n",
            "    accuracy                           0.41       300\n",
            "   macro avg       0.26      0.41      0.31       300\n",
            "weighted avg       0.26      0.41      0.31       300\n",
            "\n"
          ],
          "name": "stdout"
        },
        {
          "output_type": "stream",
          "text": [
            "/usr/local/lib/python3.6/dist-packages/sklearn/metrics/_classification.py:1272: UndefinedMetricWarning: Precision and F-score are ill-defined and being set to 0.0 in labels with no predicted samples. Use `zero_division` parameter to control this behavior.\n",
            "  _warn_prf(average, modifier, msg_start, len(result))\n",
            "/usr/local/lib/python3.6/dist-packages/sklearn/metrics/_classification.py:1272: UndefinedMetricWarning: Precision and F-score are ill-defined and being set to 0.0 in labels with no predicted samples. Use `zero_division` parameter to control this behavior.\n",
            "  _warn_prf(average, modifier, msg_start, len(result))\n"
          ],
          "name": "stderr"
        }
      ]
    },
    {
      "cell_type": "code",
      "metadata": {
        "id": "betGbouOFB1p",
        "colab_type": "code",
        "colab": {
          "base_uri": "https://localhost:8080/",
          "height": 421
        },
        "outputId": "c4238b31-9c8f-46e0-c04a-6859bc504060"
      },
      "source": [
        "plt.figure(figsize=(12, 6))\n",
        "plt.plot(K, error, color='green', linestyle='solid', marker='.',\n",
        "         markerfacecolor='black', markersize=30)\n",
        "plt.title('K Value Error Rate')\n",
        "plt.xlabel('K-Value')\n",
        "plt.ylabel('Mean Error')"
      ],
      "execution_count": 71,
      "outputs": [
        {
          "output_type": "execute_result",
          "data": {
            "text/plain": [
              "Text(0, 0.5, 'Mean Error')"
            ]
          },
          "metadata": {
            "tags": []
          },
          "execution_count": 71
        },
        {
          "output_type": "display_data",
          "data": {
            "image/png": "[encoded data removed]",
            "text/plain": [
              "<Figure size 864x432 with 1 Axes>"
            ]
          },
          "metadata": {
            "tags": [],
            "needs_background": "light"
          }
        }
      ]
    },
    {
      "cell_type": "code",
      "metadata": {
        "id": "-szS2zA3FEzL",
        "colab_type": "code",
        "colab": {}
      },
      "source": [
        "import pickle"
      ],
      "execution_count": 72,
      "outputs": []
    },
    {
      "cell_type": "code",
      "metadata": {
        "id": "mfEnhHBtFIZ8",
        "colab_type": "code",
        "colab": {
          "base_uri": "https://localhost:8080/",
          "height": 51
        },
        "outputId": "fff4ae68-60c5-47ce-8fa0-d2980fbc6dd2"
      },
      "source": [
        "from sklearn.model_selection import RandomizedSearchCV, StratifiedKFold\n",
        "from sklearn.metrics import f1_score, make_scorer\n",
        "from sklearn.ensemble import RandomForestClassifier\n",
        "\n",
        "forest =  RandomForestClassifier(max_depth=5, n_estimators=100, criterion='gini' )\n",
        "\n",
        "distributions = dict(max_depth=[2, 5, 10], n_estimators=[10, 50, 100], criterion=['gini', 'entropy'])\n",
        "\n",
        "cval = StratifiedKFold(n_splits=5, random_state=None, shuffle=False)\n",
        "\n",
        "scorer = make_scorer(accuracy_score)\n",
        "\n",
        "clf = RandomizedSearchCV(forest, distributions, scoring=scorer,  cv=cval)\n",
        "search = clf.fit(x_train, y_train)\n",
        "\n",
        "print('best parms:')\n",
        "search.best_params_"
      ],
      "execution_count": 73,
      "outputs": [
        {
          "output_type": "stream",
          "text": [
            "best parms:\n"
          ],
          "name": "stdout"
        },
        {
          "output_type": "execute_result",
          "data": {
            "text/plain": [
              "{'criterion': 'entropy', 'max_depth': 5, 'n_estimators': 10}"
            ]
          },
          "metadata": {
            "tags": []
          },
          "execution_count": 73
        }
      ]
    },
    {
      "cell_type": "code",
      "metadata": {
        "id": "sjCXgRVoFPS7",
        "colab_type": "code",
        "colab": {}
      },
      "source": [
        "rf_predictions = search.predict(x_test)"
      ],
      "execution_count": 74,
      "outputs": []
    },
    {
      "cell_type": "code",
      "metadata": {
        "id": "zh-BCbCDFR6W",
        "colab_type": "code",
        "colab": {
          "base_uri": "https://localhost:8080/",
          "height": 51
        },
        "outputId": "f8c5865e-5160-4341-9744-8f9e462571ec"
      },
      "source": [
        "print('Accuracy Score')\n",
        "accuracy_score(y_test, rf_predictions)"
      ],
      "execution_count": 75,
      "outputs": [
        {
          "output_type": "stream",
          "text": [
            "Accuracy Score\n"
          ],
          "name": "stdout"
        },
        {
          "output_type": "execute_result",
          "data": {
            "text/plain": [
              "0.42333333333333334"
            ]
          },
          "metadata": {
            "tags": []
          },
          "execution_count": 75
        }
      ]
    },
    {
      "cell_type": "code",
      "metadata": {
        "id": "2u6Z0LHkFUwQ",
        "colab_type": "code",
        "colab": {
          "base_uri": "https://localhost:8080/",
          "height": 85
        },
        "outputId": "1d5b534f-6514-4dee-dcef-134fce9b0b45"
      },
      "source": [
        "print('Confusion Matrix')\n",
        "print(confusion_matrix(y_test, rf_predictions))"
      ],
      "execution_count": 76,
      "outputs": [
        {
          "output_type": "stream",
          "text": [
            "Confusion Matrix\n",
            "[[100   0   0]\n",
            " [ 73  27   0]\n",
            " [100   0   0]]\n"
          ],
          "name": "stdout"
        }
      ]
    },
    {
      "cell_type": "code",
      "metadata": {
        "id": "uQqPZcCjFaSo",
        "colab_type": "code",
        "colab": {
          "base_uri": "https://localhost:8080/",
          "height": 258
        },
        "outputId": "f2e5cf03-b4e2-46d2-ad18-aa2bebc31b57"
      },
      "source": [
        "print('Report')\n",
        "print(classification_report(y_test, rf_predictions))"
      ],
      "execution_count": 77,
      "outputs": [
        {
          "output_type": "stream",
          "text": [
            "Report\n",
            "              precision    recall  f1-score   support\n",
            "\n",
            "           0       0.37      1.00      0.54       100\n",
            "           1       1.00      0.27      0.43       100\n",
            "           2       0.00      0.00      0.00       100\n",
            "\n",
            "    accuracy                           0.42       300\n",
            "   macro avg       0.46      0.42      0.32       300\n",
            "weighted avg       0.46      0.42      0.32       300\n",
            "\n"
          ],
          "name": "stdout"
        },
        {
          "output_type": "stream",
          "text": [
            "/usr/local/lib/python3.6/dist-packages/sklearn/metrics/_classification.py:1272: UndefinedMetricWarning: Precision and F-score are ill-defined and being set to 0.0 in labels with no predicted samples. Use `zero_division` parameter to control this behavior.\n",
            "  _warn_prf(average, modifier, msg_start, len(result))\n"
          ],
          "name": "stderr"
        }
      ]
    },
    {
      "cell_type": "code",
      "metadata": {
        "id": "m-TljhopFd2K",
        "colab_type": "code",
        "colab": {}
      },
      "source": [
        "import os\n",
        "knn_filename = \"/content/drive/My Drive/DS/ot/1111407-KNN.pkl\"\n",
        "rf_filename = \"/content/drive/My Drive/DS/ot/1111407-RF.pkl\"\n",
        "\n",
        "with open(knn_filename, 'wb') as file:\n",
        "    pickle.dump(knn_model[9], file)\n",
        "    \n",
        "with open(rf_filename, 'wb') as file:\n",
        "    pickle.dump(search, file)\n",
        "\n",
        "\n",
        "os.remove(knn_filename)\n",
        "os.remove(rf_filename)\n"
      ],
      "execution_count": 78,
      "outputs": []
    },
    {
      "cell_type": "code",
      "metadata": {
        "id": "Hf3W7A2xFkIB",
        "colab_type": "code",
        "colab": {}
      },
      "source": [
        "with open(knn_filename, 'wb') as file:\n",
        "    pickle.dump(knn_model[9], file)\n",
        "    \n",
        "with open(rf_filename, 'wb') as file:\n",
        "    pickle.dump(search, file)"
      ],
      "execution_count": 79,
      "outputs": []
    },
    {
      "cell_type": "code",
      "metadata": {
        "id": "JXyRXJaiFmr9",
        "colab_type": "code",
        "colab": {}
      },
      "source": [
        "with open(knn_filename, 'rb') as file:\n",
        "    best_knn = pickle.load(file)\n",
        "    \n",
        "with open(rf_filename, 'rb') as file:\n",
        "    best_rf = pickle.load(file)"
      ],
      "execution_count": 80,
      "outputs": []
    },
    {
      "cell_type": "code",
      "metadata": {
        "id": "ZgPCWJ7dFq-f",
        "colab_type": "code",
        "colab": {}
      },
      "source": [
        "import cv2\n",
        "def predict(file, algo):\n",
        "    \n",
        "    img = cv2.imread(file)\n",
        "    cv_rgb = cv2.cvtColor(img, cv2.COLOR_BGR2RGB)\n",
        "    plt.imshow(cv_rgb)\n",
        "    \n",
        "    tesnor = path_to_tensor(file).astype('float32')/255\n",
        "    x = new_train_model.predict(tesnor)\n",
        "    pred = -1\n",
        "    \n",
        "    if algo == 'knn':\n",
        "        pred = best_knn.predict(x)[0]\n",
        "    elif algo == 'rf': \n",
        "        pred = best_rf.predict(x)[0]\n",
        "\n",
        "    if pred == 0:\n",
        "        res = 'Abdomen'\n",
        "    elif pred == 1:\n",
        "        res = 'Chest'\n",
        "    elif pred == 2:\n",
        "        res = 'Head'\n",
        "    else: \n",
        "        return 'error'\n",
        "\n",
        "    return res + ' - by ' + algo"
      ],
      "execution_count": 81,
      "outputs": []
    },
    {
      "cell_type": "code",
      "metadata": {
        "id": "UDEi46X8Ft18",
        "colab_type": "code",
        "colab": {
          "base_uri": "https://localhost:8080/",
          "height": 302
        },
        "outputId": "81a3de38-25d9-4175-900c-7b4633ae8b9f"
      },
      "source": [
        "\n",
        "print('File: ' +  valid_files[3])\n",
        "result = predict(valid_files[3], 'knn')\n",
        "print('Detected: ' + result)"
      ],
      "execution_count": 82,
      "outputs": [
        {
          "output_type": "stream",
          "text": [
            "File: /content/drive/My Drive/DS/ot/val/Chest/Chest_CT Sample#83.jpeg\n",
            "Detected: Chest - by knn\n"
          ],
          "name": "stdout"
        },
        {
          "output_type": "display_data",
          "data": {
            "image/png": "[encoded data removed]",
            "text/plain": [
              "<Figure size 432x288 with 1 Axes>"
            ]
          },
          "metadata": {
            "tags": [],
            "needs_background": "light"
          }
        }
      ]
    },
    {
      "cell_type": "code",
      "metadata": {
        "id": "wphPcH6kILp0",
        "colab_type": "code",
        "colab": {
          "base_uri": "https://localhost:8080/",
          "height": 302
        },
        "outputId": "72f7b540-f6f5-4aaf-f27e-d9a3988e250e"
      },
      "source": [
        "print('File: ' +  valid_files[8])\n",
        "result = predict(valid_files[8], 'rf')\n",
        "print('Detected: ' + result)"
      ],
      "execution_count": 83,
      "outputs": [
        {
          "output_type": "stream",
          "text": [
            "File: /content/drive/My Drive/DS/ot/val/Chest/Chest_CT Sample#476.jpeg\n",
            "Detected: Chest - by rf\n"
          ],
          "name": "stdout"
        },
        {
          "output_type": "display_data",
          "data": {
            "image/png": "[encoded data removed]",
            "text/plain": [
              "<Figure size 432x288 with 1 Axes>"
            ]
          },
          "metadata": {
            "tags": [],
            "needs_background": "light"
          }
        }
      ]
    }
  ]
}